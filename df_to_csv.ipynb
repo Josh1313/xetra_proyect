{
 "cells": [
  {
   "cell_type": "code",
   "execution_count": 1,
   "id": "35ea7e5f-2463-484c-ad13-851e0c7c284a",
   "metadata": {},
   "outputs": [
    {
     "name": "stdout",
     "output_type": "stream",
     "text": [
      "  source_date date_of_time_processing\n",
      "0  2022-03-15     2022-03-15 12:33:23\n",
      "1  2022-03-14     2022-03-14 12:30:21\n"
     ]
    }
   ],
   "source": [
    "import pandas as pd\n",
    "\n",
    "# Create a DataFrame with the data\n",
    "data = {'source_date': ['2022-03-15', '2022-03-14'],\n",
    "        'date_of_time_processing': ['2022-03-15 12:33:23', '2022-03-14 12:30:21']}\n",
    "\n",
    "df = pd.DataFrame(data)\n",
    "\n",
    "# Specify the file path where you want to save the CSV file\n",
    "csv_file_path = 'meta_file.csv'\n",
    "\n",
    "# Write the DataFrame to a CSV file\n",
    "df.to_csv(csv_file_path, index=False)\n",
    "\n",
    "# Display the DataFrame\n",
    "print(df)\n"
   ]
  },
  {
   "cell_type": "code",
   "execution_count": null,
   "id": "9263d6c7-d2e4-48cc-b422-b9a6dcf48bbc",
   "metadata": {},
   "outputs": [],
   "source": []
  }
 ],
 "metadata": {
  "kernelspec": {
   "display_name": "Python 3 (ipykernel)",
   "language": "python",
   "name": "python3"
  },
  "language_info": {
   "codemirror_mode": {
    "name": "ipython",
    "version": 3
   },
   "file_extension": ".py",
   "mimetype": "text/x-python",
   "name": "python",
   "nbconvert_exporter": "python",
   "pygments_lexer": "ipython3",
   "version": "3.12.2"
  }
 },
 "nbformat": 4,
 "nbformat_minor": 5
}
